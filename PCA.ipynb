{
 "cells": [
  {
   "cell_type": "code",
   "execution_count": 10,
   "id": "e27bfba5",
   "metadata": {},
   "outputs": [],
   "source": [
    "import pandas as pd\n",
    "from sklearn.datasets import load_breast_cancer\n",
    "from sklearn.model_selection import train_test_split\n",
    "from sklearn.ensemble import RandomForestClassifier"
   ]
  },
  {
   "cell_type": "code",
   "execution_count": 5,
   "id": "94815442",
   "metadata": {},
   "outputs": [],
   "source": [
    "lbc=load_breast_cancer()\n",
    "x=pd.DataFrame(lbc['data'],columns=lbc['feature_names'])\n",
    "y=pd.DataFrame(lbc['target'],columns=['type'])"
   ]
  },
  {
   "cell_type": "code",
   "execution_count": 6,
   "id": "5b542b8d",
   "metadata": {},
   "outputs": [],
   "source": [
    "#perfom prediction withoud pca"
   ]
  },
  {
   "cell_type": "code",
   "execution_count": 11,
   "id": "af81adc0",
   "metadata": {},
   "outputs": [],
   "source": [
    "x_train,x_test,y_train,y_test=train_test_split(x,y,test_size=.3, random_state=123, stratify=y)\n",
    "rfc1=RandomForestClassifier(random_state=123)\n",
    "rfc1.fit(x_train,y_train)\n",
    "y_predict=rfc1.predict(x_test)"
   ]
  },
  {
   "cell_type": "code",
   "execution_count": 16,
   "id": "d3cd2ad0",
   "metadata": {},
   "outputs": [],
   "source": [
    "#score and evaluate the mode"
   ]
  },
  {
   "cell_type": "code",
   "execution_count": 17,
   "id": "07f6d0b5",
   "metadata": {},
   "outputs": [],
   "source": [
    "from sklearn.metrics import confusion_matrix"
   ]
  },
  {
   "cell_type": "code",
   "execution_count": 18,
   "id": "08169bf1",
   "metadata": {},
   "outputs": [],
   "source": [
    "cm1=confusion_matrix(y_test,y_predict)"
   ]
  },
  {
   "cell_type": "code",
   "execution_count": 19,
   "id": "3e17ac4a",
   "metadata": {},
   "outputs": [],
   "source": [
    "score1=rfc1.score(x_test,y_test)"
   ]
  },
  {
   "cell_type": "code",
   "execution_count": 20,
   "id": "939011fd",
   "metadata": {},
   "outputs": [
    {
     "data": {
      "text/plain": [
       "array([[ 61,   3],\n",
       "       [  3, 104]], dtype=int64)"
      ]
     },
     "execution_count": 20,
     "metadata": {},
     "output_type": "execute_result"
    }
   ],
   "source": [
    "cm1"
   ]
  },
  {
   "cell_type": "code",
   "execution_count": 21,
   "id": "8a388f72",
   "metadata": {},
   "outputs": [
    {
     "data": {
      "text/plain": [
       "0.9649122807017544"
      ]
     },
     "execution_count": 21,
     "metadata": {},
     "output_type": "execute_result"
    }
   ],
   "source": [
    "score1"
   ]
  },
  {
   "cell_type": "code",
   "execution_count": 22,
   "id": "20ea829e",
   "metadata": {},
   "outputs": [],
   "source": [
    "#perform pca component analysis"
   ]
  },
  {
   "cell_type": "code",
   "execution_count": 23,
   "id": "9def3867",
   "metadata": {},
   "outputs": [],
   "source": [
    "from sklearn.decomposition import PCA"
   ]
  },
  {
   "cell_type": "code",
   "execution_count": 24,
   "id": "7141fe5f",
   "metadata": {},
   "outputs": [],
   "source": [
    "#normalize the data with mean as zero"
   ]
  },
  {
   "cell_type": "code",
   "execution_count": 25,
   "id": "6d0a5081",
   "metadata": {},
   "outputs": [],
   "source": [
    "from sklearn.preprocessing import StandardScaler"
   ]
  },
  {
   "cell_type": "code",
   "execution_count": 26,
   "id": "23e2e267",
   "metadata": {},
   "outputs": [],
   "source": [
    "scalar=StandardScaler()"
   ]
  },
  {
   "cell_type": "code",
   "execution_count": 27,
   "id": "c035818c",
   "metadata": {},
   "outputs": [],
   "source": [
    "x_scaled=scalar.fit_transform(x)"
   ]
  },
  {
   "cell_type": "code",
   "execution_count": 28,
   "id": "d9c763a1",
   "metadata": {},
   "outputs": [],
   "source": [
    "#check the mean of the centered data"
   ]
  },
  {
   "cell_type": "code",
   "execution_count": 34,
   "id": "83aae18d",
   "metadata": {},
   "outputs": [
    {
     "data": {
      "text/plain": [
       "-3.153111437248248e-15"
      ]
     },
     "execution_count": 34,
     "metadata": {},
     "output_type": "execute_result"
    }
   ],
   "source": [
    "x_scaled[:,0].mean() #mean is stander almost to zero"
   ]
  },
  {
   "cell_type": "code",
   "execution_count": 35,
   "id": "4cfaa001",
   "metadata": {},
   "outputs": [],
   "source": [
    "pca=PCA(n_components=5) #reduce daimention upto 5"
   ]
  },
  {
   "cell_type": "code",
   "execution_count": 36,
   "id": "e7326f19",
   "metadata": {},
   "outputs": [],
   "source": [
    "x_pca=pca.fit_transform(x_scaled)"
   ]
  },
  {
   "cell_type": "code",
   "execution_count": 38,
   "id": "eb46a4df",
   "metadata": {},
   "outputs": [],
   "source": [
    "#split the ata"
   ]
  },
  {
   "cell_type": "code",
   "execution_count": 39,
   "id": "953804bd",
   "metadata": {},
   "outputs": [],
   "source": [
    "x_train,x_test,y_train,y_test=train_test_split(x_pca, y, test_size=.3, random_state=123,stratify=y)"
   ]
  },
  {
   "cell_type": "code",
   "execution_count": 42,
   "id": "b3dcf0ff",
   "metadata": {},
   "outputs": [
    {
     "name": "stderr",
     "output_type": "stream",
     "text": [
      "C:\\Users\\BAIJNA~1\\AppData\\Local\\Temp/ipykernel_6368/1144126125.py:3: DataConversionWarning: A column-vector y was passed when a 1d array was expected. Please change the shape of y to (n_samples,), for example using ravel().\n",
      "  rfc2.fit(x_train, y_train)\n"
     ]
    }
   ],
   "source": [
    "# Default Random Forest Object\n",
    "rfc2 = RandomForestClassifier(random_state=1234)\n",
    "rfc2.fit(x_train, y_train)\n",
    "Y_predict2 = rfc2.predict(x_test)"
   ]
  },
  {
   "cell_type": "code",
   "execution_count": 45,
   "id": "891d2f30",
   "metadata": {},
   "outputs": [],
   "source": [
    "cm2 = confusion_matrix(y_test, Y_predict2)\n",
    "score2 = rfc2.score(x_test, y_test)"
   ]
  },
  {
   "cell_type": "code",
   "execution_count": 46,
   "id": "46bbf54c",
   "metadata": {},
   "outputs": [
    {
     "data": {
      "text/plain": [
       "array([[ 62,   2],\n",
       "       [  2, 105]], dtype=int64)"
      ]
     },
     "execution_count": 46,
     "metadata": {},
     "output_type": "execute_result"
    }
   ],
   "source": [
    "cm2"
   ]
  },
  {
   "cell_type": "code",
   "execution_count": 47,
   "id": "222d1e19",
   "metadata": {},
   "outputs": [
    {
     "data": {
      "text/plain": [
       "array([[ 61,   3],\n",
       "       [  3, 104]], dtype=int64)"
      ]
     },
     "execution_count": 47,
     "metadata": {},
     "output_type": "execute_result"
    }
   ],
   "source": [
    "cm1"
   ]
  },
  {
   "cell_type": "code",
   "execution_count": 48,
   "id": "6faf9151",
   "metadata": {},
   "outputs": [
    {
     "data": {
      "text/plain": [
       "0.9649122807017544"
      ]
     },
     "execution_count": 48,
     "metadata": {},
     "output_type": "execute_result"
    }
   ],
   "source": [
    "score1"
   ]
  },
  {
   "cell_type": "code",
   "execution_count": 49,
   "id": "ec86ae11",
   "metadata": {},
   "outputs": [
    {
     "data": {
      "text/plain": [
       "0.9766081871345029"
      ]
     },
     "execution_count": 49,
     "metadata": {},
     "output_type": "execute_result"
    }
   ],
   "source": [
    "score2"
   ]
  },
  {
   "cell_type": "code",
   "execution_count": null,
   "id": "7d031bfd",
   "metadata": {},
   "outputs": [],
   "source": []
  }
 ],
 "metadata": {
  "kernelspec": {
   "display_name": "Python 3 (ipykernel)",
   "language": "python",
   "name": "python3"
  },
  "language_info": {
   "codemirror_mode": {
    "name": "ipython",
    "version": 3
   },
   "file_extension": ".py",
   "mimetype": "text/x-python",
   "name": "python",
   "nbconvert_exporter": "python",
   "pygments_lexer": "ipython3",
   "version": "3.9.7"
  }
 },
 "nbformat": 4,
 "nbformat_minor": 5
}
